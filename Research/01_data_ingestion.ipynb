{
 "cells": [
  {
   "cell_type": "code",
   "execution_count": 52,
   "id": "c164149c",
   "metadata": {},
   "outputs": [],
   "source": [
    "import os\n",
    "import sys"
   ]
  },
  {
   "cell_type": "code",
   "execution_count": 53,
   "id": "3b7f1a46",
   "metadata": {},
   "outputs": [
    {
     "data": {
      "text/plain": [
       "'c:\\\\Users\\\\rajum\\\\DATA SCIENCE\\\\VS\\\\DrugEfficacy'"
      ]
     },
     "execution_count": 53,
     "metadata": {},
     "output_type": "execute_result"
    }
   ],
   "source": [
    "pwd"
   ]
  },
  {
   "cell_type": "code",
   "execution_count": 54,
   "id": "de4e4d05",
   "metadata": {},
   "outputs": [],
   "source": [
    "from dataclasses import dataclass\n",
    "from pathlib import Path"
   ]
  },
  {
   "cell_type": "code",
   "execution_count": 67,
   "id": "fe0f003d",
   "metadata": {},
   "outputs": [],
   "source": [
    "@dataclass\n",
    "class DataIngestionConfig:\n",
    "    root_dir : Path\n",
    "    source_url : str\n",
    "    local_data_file : Path\n",
    "    unzip_dir : Path"
   ]
  },
  {
   "cell_type": "code",
   "execution_count": 68,
   "id": "97d19de2",
   "metadata": {},
   "outputs": [],
   "source": [
    "#os.chdir(\"../\")\n",
    "sys.path.append(os.path.join(os.getcwd(),\"src\"))"
   ]
  },
  {
   "cell_type": "code",
   "execution_count": null,
   "id": "ad2cbcb1",
   "metadata": {},
   "outputs": [],
   "source": []
  },
  {
   "cell_type": "code",
   "execution_count": 69,
   "id": "a1dd59e9",
   "metadata": {},
   "outputs": [],
   "source": [
    "os.chdir(\"c:\\\\Users\\\\rajum\\\\DATA SCIENCE\\\\VS\\\\DrugEfficacy\\src\")\n",
    " "
   ]
  },
  {
   "cell_type": "code",
   "execution_count": 70,
   "id": "6721abf1",
   "metadata": {},
   "outputs": [],
   "source": [
    "from nltkClassifier.Constants import *\n",
    "from nltkClassifier.Utils.common import read_yaml,create_directories"
   ]
  },
  {
   "cell_type": "code",
   "execution_count": 71,
   "id": "39edf05c",
   "metadata": {},
   "outputs": [],
   "source": [
    "#!pip install ensure"
   ]
  },
  {
   "cell_type": "code",
   "execution_count": 72,
   "id": "04d1e4f8",
   "metadata": {},
   "outputs": [],
   "source": [
    "class ConfiguraitonManager:\n",
    "    def __init__(\n",
    "            self,\n",
    "            config_filepath=CONFIG_FILE_PATH,\n",
    "            params_filepath=PARAMS_FILE_PATH ):\n",
    "        self.config=read_yaml(config_filepath)\n",
    "        self.params=read_yaml(params_filepath)\n",
    "\n",
    "        create_directories([self.config.artifacts_root])\n",
    "    \n",
    "    def get_data_ingestion_config(self)->DataIngestionConfig:\n",
    "        config=self.config.data_ingestion\n",
    "        data_ingestion_config=DataIngestionConfig(\n",
    "            root_dir=config.root_dir,\n",
    "            source_url=config.source_url,\n",
    "            local_data_file=config.local_data_file,\n",
    "            unzip_dir=config.unzip_dir\n",
    "\n",
    "        )\n",
    "        return data_ingestion_config\n",
    "\n",
    "\n",
    "\n",
    "\n"
   ]
  },
  {
   "cell_type": "code",
   "execution_count": 73,
   "id": "3ce2ced2",
   "metadata": {},
   "outputs": [],
   "source": [
    "import os \n",
    "import urllib.request as request\n",
    "import zipfile\n",
    "from nltkClassifier import logger\n",
    "from nltkClassifier.Utils.common import get_size\n",
    "import requests\n",
    "from io import BytesIO"
   ]
  },
  {
   "cell_type": "code",
   "execution_count": 74,
   "id": "fa072358",
   "metadata": {},
   "outputs": [],
   "source": [
    "os.chdir(\"c:\\\\Users\\\\rajum\\\\DATA SCIENCE\\\\VS\\\\DrugEfficacy\")\n",
    " "
   ]
  },
  {
   "cell_type": "code",
   "execution_count": null,
   "id": "53c68586",
   "metadata": {},
   "outputs": [],
   "source": [
    "class DataIngestion:\n",
    "    \n",
    "    def __init__(self,config:DataIngestionConfig):\n",
    "        self.config=config\n",
    "    \n",
    "    \n",
    "    def download_file(self):\n",
    "        # Step 1: Define raw URL and target paths\n",
    "        zip_url = \"https://raw.githubusercontent.com/RS4327/RAWDATA/main/drugsComTrain_raw.zip\"\n",
    "        download_path = \"artifacts/data_ingestion/drugsComTrain_raw.zip\"\n",
    "        extract_path = \"artifacts/data_ingestion\"\n",
    "        \n",
    "        # Step 2: Create directories\n",
    "        os.makedirs(os.path.dirname(download_path), exist_ok=True)\n",
    "        os.makedirs(extract_path, exist_ok=True)\n",
    "\n",
    "        # Step 3: Download the ZIP file\n",
    "        response = requests.get(zip_url)\n",
    "        response.raise_for_status()  # Raise error for bad status\n",
    "\n",
    "        with open(download_path, 'wb') as f:\n",
    "            f.write(response.content)\n",
    "\n",
    "        print(f\"✅ ZIP file downloaded to: {download_path}\")\n",
    "\n",
    "        # Step 4: Extract ZIP\n",
    "        with zipfile.ZipFile(download_path, 'r') as zip_ref:\n",
    "            zip_ref.extractall(extract_path)\n",
    "\n",
    "        print(f\"✅ ZIP file extracted to: {extract_path}\")\n",
    "    \n",
    "    "
   ]
  },
  {
   "cell_type": "code",
   "execution_count": 109,
   "id": "87e4873f",
   "metadata": {},
   "outputs": [
    {
     "name": "stdout",
     "output_type": "stream",
     "text": [
      "Current Working Directory yaml: Config\\config.yaml\n",
      "Current Directory: c:\\Users\\rajum\\DATA SCIENCE\\VS\\DrugEfficacy\n",
      "Files: ['.gethug', '.git', 'artifacts', 'Config', 'drugefficacy.zip', 'dvc.yaml', 'logs', 'main.py', 'params.yaml', 'README.md', 'requirements.txt', 'Research', 'setup.py', 'src', 'template.py', 'Templates']\n",
      "Config Folder Contents: ['config.yaml']\n",
      " Config\\config.yaml chekcing \n",
      "[2025-07-30 10:56:35,994: INFO: common: yamal file : Config\\config.yaml loaded sucessfully]\n",
      "Current Working Directory yaml: params.yaml\n",
      "Current Directory: c:\\Users\\rajum\\DATA SCIENCE\\VS\\DrugEfficacy\n",
      "Files: ['.gethug', '.git', 'artifacts', 'Config', 'drugefficacy.zip', 'dvc.yaml', 'logs', 'main.py', 'params.yaml', 'README.md', 'requirements.txt', 'Research', 'setup.py', 'src', 'template.py', 'Templates']\n",
      "Config Folder Contents: ['config.yaml']\n",
      " params.yaml chekcing \n",
      "[2025-07-30 10:56:36,002: INFO: common: yamal file : params.yaml loaded sucessfully]\n",
      "path_to_directories  ['artifacts']\n",
      "[2025-07-30 10:56:36,002: INFO: common: Created Directory at : artifacts]\n",
      "✅ ZIP file downloaded to: artifacts/data_ingestion/data.csv\n"
     ]
    },
    {
     "ename": "BadZipFile",
     "evalue": "File is not a zip file",
     "output_type": "error",
     "traceback": [
      "\u001b[31m---------------------------------------------------------------------------\u001b[39m",
      "\u001b[31mBadZipFile\u001b[39m                                Traceback (most recent call last)",
      "\u001b[36mCell\u001b[39m\u001b[36m \u001b[39m\u001b[32mIn[109]\u001b[39m\u001b[32m, line 9\u001b[39m\n\u001b[32m      7\u001b[39m     \u001b[38;5;66;03m#data_ingestion.download_csv_from_url()\u001b[39;00m\n\u001b[32m      8\u001b[39m \u001b[38;5;28;01mexcept\u001b[39;00m \u001b[38;5;167;01mException\u001b[39;00m \u001b[38;5;28;01mas\u001b[39;00m e:\n\u001b[32m----> \u001b[39m\u001b[32m9\u001b[39m     \u001b[38;5;28;01mraise\u001b[39;00m e\n",
      "\u001b[36mCell\u001b[39m\u001b[36m \u001b[39m\u001b[32mIn[109]\u001b[39m\u001b[32m, line 5\u001b[39m\n\u001b[32m      3\u001b[39m data_ingestion_config = config.get_data_ingestion_config()\n\u001b[32m      4\u001b[39m data_ingestion = DataIngestion(config=data_ingestion_config)\n\u001b[32m----> \u001b[39m\u001b[32m5\u001b[39m data_ingestion.download_file()\n\u001b[32m      6\u001b[39m data_ingestion.extract_zip_file()\n\u001b[32m      7\u001b[39m \u001b[38;5;66;03m#data_ingestion.download_csv_from_url()\u001b[39;00m\n",
      "\u001b[36mCell\u001b[39m\u001b[36m \u001b[39m\u001b[32mIn[108]\u001b[39m\u001b[32m, line 27\u001b[39m, in \u001b[36mDataIngestion.download_file\u001b[39m\u001b[34m(self)\u001b[39m\n\u001b[32m     24\u001b[39m \u001b[38;5;28mprint\u001b[39m(\u001b[33mf\u001b[39m\u001b[33m\"\u001b[39m\u001b[33m✅ ZIP file downloaded to: \u001b[39m\u001b[38;5;132;01m{\u001b[39;00m\u001b[38;5;28mself\u001b[39m.config.local_data_file\u001b[38;5;132;01m}\u001b[39;00m\u001b[33m\"\u001b[39m)\n\u001b[32m     26\u001b[39m \u001b[38;5;66;03m# Step 4: Extract ZIP\u001b[39;00m\n\u001b[32m---> \u001b[39m\u001b[32m27\u001b[39m \u001b[38;5;28;01mwith\u001b[39;00m zipfile.ZipFile(\u001b[38;5;28mself\u001b[39m.config.local_data_file, \u001b[33m'\u001b[39m\u001b[33mr\u001b[39m\u001b[33m'\u001b[39m) \u001b[38;5;28;01mas\u001b[39;00m zip_ref:\n\u001b[32m     28\u001b[39m     zip_ref.extractall(\u001b[38;5;28mself\u001b[39m.config.unzip_dir)\n\u001b[32m     30\u001b[39m \u001b[38;5;28mprint\u001b[39m(\u001b[33mf\u001b[39m\u001b[33m\"\u001b[39m\u001b[33m✅ ZIP file extracted to: \u001b[39m\u001b[38;5;132;01m{\u001b[39;00m\u001b[38;5;28mself\u001b[39m.config.unzip_dir\u001b[38;5;132;01m}\u001b[39;00m\u001b[33m\"\u001b[39m)\n",
      "\u001b[36mFile \u001b[39m\u001b[32mc:\\Users\\rajum\\.conda\\envs\\DrugEfficacy\\Lib\\zipfile.py:1313\u001b[39m, in \u001b[36mZipFile.__init__\u001b[39m\u001b[34m(self, file, mode, compression, allowZip64, compresslevel, strict_timestamps, metadata_encoding)\u001b[39m\n\u001b[32m   1311\u001b[39m \u001b[38;5;28;01mtry\u001b[39;00m:\n\u001b[32m   1312\u001b[39m     \u001b[38;5;28;01mif\u001b[39;00m mode == \u001b[33m'\u001b[39m\u001b[33mr\u001b[39m\u001b[33m'\u001b[39m:\n\u001b[32m-> \u001b[39m\u001b[32m1313\u001b[39m         \u001b[38;5;28mself\u001b[39m._RealGetContents()\n\u001b[32m   1314\u001b[39m     \u001b[38;5;28;01melif\u001b[39;00m mode \u001b[38;5;129;01min\u001b[39;00m (\u001b[33m'\u001b[39m\u001b[33mw\u001b[39m\u001b[33m'\u001b[39m, \u001b[33m'\u001b[39m\u001b[33mx\u001b[39m\u001b[33m'\u001b[39m):\n\u001b[32m   1315\u001b[39m         \u001b[38;5;66;03m# set the modified flag so central directory gets written\u001b[39;00m\n\u001b[32m   1316\u001b[39m         \u001b[38;5;66;03m# even if no files are added to the archive\u001b[39;00m\n\u001b[32m   1317\u001b[39m         \u001b[38;5;28mself\u001b[39m._didModify = \u001b[38;5;28;01mTrue\u001b[39;00m\n",
      "\u001b[36mFile \u001b[39m\u001b[32mc:\\Users\\rajum\\.conda\\envs\\DrugEfficacy\\Lib\\zipfile.py:1380\u001b[39m, in \u001b[36mZipFile._RealGetContents\u001b[39m\u001b[34m(self)\u001b[39m\n\u001b[32m   1378\u001b[39m     \u001b[38;5;28;01mraise\u001b[39;00m BadZipFile(\u001b[33m\"\u001b[39m\u001b[33mFile is not a zip file\u001b[39m\u001b[33m\"\u001b[39m)\n\u001b[32m   1379\u001b[39m \u001b[38;5;28;01mif\u001b[39;00m \u001b[38;5;129;01mnot\u001b[39;00m endrec:\n\u001b[32m-> \u001b[39m\u001b[32m1380\u001b[39m     \u001b[38;5;28;01mraise\u001b[39;00m BadZipFile(\u001b[33m\"\u001b[39m\u001b[33mFile is not a zip file\u001b[39m\u001b[33m\"\u001b[39m)\n\u001b[32m   1381\u001b[39m \u001b[38;5;28;01mif\u001b[39;00m \u001b[38;5;28mself\u001b[39m.debug > \u001b[32m1\u001b[39m:\n\u001b[32m   1382\u001b[39m     \u001b[38;5;28mprint\u001b[39m(endrec)\n",
      "\u001b[31mBadZipFile\u001b[39m: File is not a zip file"
     ]
    }
   ],
   "source": [
    "try:\n",
    "    config = ConfiguraitonManager()\n",
    "    data_ingestion_config = config.get_data_ingestion_config()\n",
    "    data_ingestion = DataIngestion(config=data_ingestion_config)\n",
    "    data_ingestion.download_file()\n",
    "    data_ingestion.extract_zip_file()\n",
    "    #data_ingestion.download_csv_from_url()\n",
    "except Exception as e:\n",
    "    raise e"
   ]
  },
  {
   "cell_type": "code",
   "execution_count": null,
   "id": "55f34166",
   "metadata": {},
   "outputs": [],
   "source": []
  },
  {
   "cell_type": "code",
   "execution_count": 93,
   "id": "1d595642",
   "metadata": {},
   "outputs": [],
   "source": [
    "import zipfile"
   ]
  },
  {
   "cell_type": "code",
   "execution_count": 94,
   "id": "2751c3be",
   "metadata": {},
   "outputs": [],
   "source": [
    "# def zip_folder(folder_path, zip_name):\n",
    "#     with zipfile.ZipFile(zip_name, 'w', zipfile.ZIP_DEFLATED) as zipf:\n",
    "#         for root, dirs, files in os.walk(folder_path):\n",
    "#             for file in files:\n",
    "#                 full_path = os.path.join(root, file)\n",
    "#                 # Preserve folder structure inside the zip\n",
    "#                 arcname = os.path.relpath(full_path, folder_path)\n",
    "#                 zipf.write(full_path, arcname)"
   ]
  },
  {
   "cell_type": "code",
   "execution_count": 36,
   "id": "0e6c5c76",
   "metadata": {},
   "outputs": [],
   "source": [
    "zip_folder('C:\\\\Users\\\\rajum\\\\DATA SCIENCE\\\\VS\\\\DrugEfficacy\\\\Research\\\\New folder','drugefficacy.zip')"
   ]
  },
  {
   "cell_type": "code",
   "execution_count": null,
   "id": "c5d0e463",
   "metadata": {},
   "outputs": [
    {
     "name": "stdout",
     "output_type": "stream",
     "text": [
      "✅ ZIP file downloaded to: artifacts/data_ingestion/drugsComTrain_raw.zip\n",
      "✅ ZIP file extracted to: artifacts/data_ingestion/extracted\n"
     ]
    }
   ],
   "source": []
  },
  {
   "cell_type": "code",
   "execution_count": null,
   "id": "5fdf7d84",
   "metadata": {},
   "outputs": [],
   "source": []
  }
 ],
 "metadata": {
  "kernelspec": {
   "display_name": "DrugEfficacy",
   "language": "python",
   "name": "python3"
  },
  "language_info": {
   "codemirror_mode": {
    "name": "ipython",
    "version": 3
   },
   "file_extension": ".py",
   "mimetype": "text/x-python",
   "name": "python",
   "nbconvert_exporter": "python",
   "pygments_lexer": "ipython3",
   "version": "3.11.13"
  }
 },
 "nbformat": 4,
 "nbformat_minor": 5
}
